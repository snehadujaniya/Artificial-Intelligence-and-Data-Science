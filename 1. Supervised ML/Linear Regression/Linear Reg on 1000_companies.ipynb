{
 "cells": [
  {
   "cell_type": "code",
   "execution_count": 1,
   "metadata": {},
   "outputs": [],
   "source": [
    "# Importing the libraries\n",
    "import pandas as pd\n",
    "import numpy as np\n",
    "import matplotlib.pyplot as plt\n",
    "import seaborn as sns\n",
    "%matplotlib inline"
   ]
  },
  {
   "cell_type": "code",
   "execution_count": 12,
   "metadata": {},
   "outputs": [],
   "source": [
    "import warnings\n",
    "warnings.filterwarnings(\"ignore\")"
   ]
  },
  {
   "cell_type": "code",
   "execution_count": 2,
   "metadata": {},
   "outputs": [],
   "source": [
    "# Importing dataset and extracting independent and dependent variables\n",
    "companies = pd.read_csv(\"1000_Companies.csv\")\n",
    "X = companies.iloc[:,:-1].values\n",
    "y = companies.iloc[:,4].values"
   ]
  },
  {
   "cell_type": "code",
   "execution_count": 3,
   "metadata": {},
   "outputs": [
    {
     "data": {
      "text/html": [
       "<div>\n",
       "<style scoped>\n",
       "    .dataframe tbody tr th:only-of-type {\n",
       "        vertical-align: middle;\n",
       "    }\n",
       "\n",
       "    .dataframe tbody tr th {\n",
       "        vertical-align: top;\n",
       "    }\n",
       "\n",
       "    .dataframe thead th {\n",
       "        text-align: right;\n",
       "    }\n",
       "</style>\n",
       "<table border=\"1\" class=\"dataframe\">\n",
       "  <thead>\n",
       "    <tr style=\"text-align: right;\">\n",
       "      <th></th>\n",
       "      <th>R&amp;D Spend</th>\n",
       "      <th>Administration</th>\n",
       "      <th>Marketing Spend</th>\n",
       "      <th>State</th>\n",
       "      <th>Profit</th>\n",
       "    </tr>\n",
       "  </thead>\n",
       "  <tbody>\n",
       "    <tr>\n",
       "      <td>0</td>\n",
       "      <td>165349.20</td>\n",
       "      <td>136897.80</td>\n",
       "      <td>471784.10</td>\n",
       "      <td>New York</td>\n",
       "      <td>192261.83</td>\n",
       "    </tr>\n",
       "    <tr>\n",
       "      <td>1</td>\n",
       "      <td>162597.70</td>\n",
       "      <td>151377.59</td>\n",
       "      <td>443898.53</td>\n",
       "      <td>California</td>\n",
       "      <td>191792.06</td>\n",
       "    </tr>\n",
       "    <tr>\n",
       "      <td>2</td>\n",
       "      <td>153441.51</td>\n",
       "      <td>101145.55</td>\n",
       "      <td>407934.54</td>\n",
       "      <td>Florida</td>\n",
       "      <td>191050.39</td>\n",
       "    </tr>\n",
       "    <tr>\n",
       "      <td>3</td>\n",
       "      <td>144372.41</td>\n",
       "      <td>118671.85</td>\n",
       "      <td>383199.62</td>\n",
       "      <td>New York</td>\n",
       "      <td>182901.99</td>\n",
       "    </tr>\n",
       "    <tr>\n",
       "      <td>4</td>\n",
       "      <td>142107.34</td>\n",
       "      <td>91391.77</td>\n",
       "      <td>366168.42</td>\n",
       "      <td>Florida</td>\n",
       "      <td>166187.94</td>\n",
       "    </tr>\n",
       "  </tbody>\n",
       "</table>\n",
       "</div>"
      ],
      "text/plain": [
       "   R&D Spend  Administration  Marketing Spend       State     Profit\n",
       "0  165349.20       136897.80        471784.10    New York  192261.83\n",
       "1  162597.70       151377.59        443898.53  California  191792.06\n",
       "2  153441.51       101145.55        407934.54     Florida  191050.39\n",
       "3  144372.41       118671.85        383199.62    New York  182901.99\n",
       "4  142107.34        91391.77        366168.42     Florida  166187.94"
      ]
     },
     "execution_count": 3,
     "metadata": {},
     "output_type": "execute_result"
    }
   ],
   "source": [
    "companies.head()"
   ]
  },
  {
   "cell_type": "code",
   "execution_count": 6,
   "metadata": {},
   "outputs": [
    {
     "data": {
      "text/plain": [
       "array([165349.2, 136897.8, 471784.1, 'New York'], dtype=object)"
      ]
     },
     "execution_count": 6,
     "metadata": {},
     "output_type": "execute_result"
    }
   ],
   "source": [
    "X[0]"
   ]
  },
  {
   "cell_type": "code",
   "execution_count": 7,
   "metadata": {},
   "outputs": [
    {
     "data": {
      "text/plain": [
       "<matplotlib.axes._subplots.AxesSubplot at 0x244761b7388>"
      ]
     },
     "execution_count": 7,
     "metadata": {},
     "output_type": "execute_result"
    },
    {
     "data": {
      "image/png": "[encoded data removed]",
      "text/plain": [
       "<Figure size 432x288 with 2 Axes>"
      ]
     },
     "metadata": {
      "needs_background": "light"
     },
     "output_type": "display_data"
    }
   ],
   "source": [
    "# Data visualisation\n",
    "sns.heatmap(companies.corr())"
   ]
  },
  {
   "cell_type": "code",
   "execution_count": 8,
   "metadata": {},
   "outputs": [
    {
     "data": {
      "text/plain": [
       "array(['New York', 'California', 'Florida'], dtype=object)"
      ]
     },
     "execution_count": 8,
     "metadata": {},
     "output_type": "execute_result"
    }
   ],
   "source": [
    "companies['State'].unique() # Categorical Data"
   ]
  },
  {
   "cell_type": "markdown",
   "metadata": {},
   "source": [
    " Check out the difference between the two\n",
    " https://medium.com/@contactsunny/label-encoder-vs-one-hot-encoder-in-machine-learning-3fc273365621"
   ]
  },
  {
   "cell_type": "code",
   "execution_count": 9,
   "metadata": {},
   "outputs": [
    {
     "data": {
      "text/plain": [
       "array([165349.2, 136897.8, 471784.1, 2], dtype=object)"
      ]
     },
     "execution_count": 9,
     "metadata": {},
     "output_type": "execute_result"
    }
   ],
   "source": [
    "# Encoding categorical data\n",
    "from sklearn.preprocessing import LabelEncoder, OneHotEncoder\n",
    "labelencoder = LabelEncoder()\n",
    "X[:,3] = labelencoder.fit_transform(X[:,3])  # This converts the 3rd column to numerical values\n",
    "\n",
    "X[0]"
   ]
  },
  {
   "cell_type": "code",
   "execution_count": 13,
   "metadata": {},
   "outputs": [],
   "source": [
    "onehotencoder = OneHotEncoder(categorical_features=[3]) # because we have 3 unique categories\n",
    "X = onehotencoder.fit_transform(X).toarray()\n"
   ]
  },
  {
   "cell_type": "code",
   "execution_count": 15,
   "metadata": {},
   "outputs": [
    {
     "data": {
      "text/plain": [
       "(1002,)"
      ]
     },
     "execution_count": 15,
     "metadata": {},
     "output_type": "execute_result"
    }
   ],
   "source": [
    "X[0].shape"
   ]
  },
  {
   "cell_type": "code",
   "execution_count": 16,
   "metadata": {},
   "outputs": [],
   "source": [
    "# Avoiding dummy variable trap\n",
    "# We need to remove the extra column that got added due to label and onehot encoding\n",
    "X = X[:,1:]"
   ]
  },
  {
   "cell_type": "code",
   "execution_count": 24,
   "metadata": {},
   "outputs": [
    {
     "data": {
      "text/plain": [
       "(1000, 1001)"
      ]
     },
     "execution_count": 24,
     "metadata": {},
     "output_type": "execute_result"
    }
   ],
   "source": [
    "type(X)\n",
    "X.shape"
   ]
  },
  {
   "cell_type": "code",
   "execution_count": 17,
   "metadata": {},
   "outputs": [],
   "source": [
    "# Splitting the dataset into Training and Test Set\n",
    "from sklearn.model_selection import train_test_split\n",
    "X_train, X_test, y_train, y_test = train_test_split(X,y,test_size = 0.2, random_state=0)"
   ]
  },
  {
   "cell_type": "code",
   "execution_count": 18,
   "metadata": {},
   "outputs": [
    {
     "data": {
      "text/plain": [
       "LinearRegression(copy_X=True, fit_intercept=True, n_jobs=None, normalize=False)"
      ]
     },
     "execution_count": 18,
     "metadata": {},
     "output_type": "execute_result"
    }
   ],
   "source": [
    "# Fitting Multiple Linear regression to the training set\n",
    "from sklearn.linear_model import LinearRegression\n",
    "regressor = LinearRegression()\n",
    "regressor.fit(X_train,y_train)"
   ]
  },
  {
   "cell_type": "code",
   "execution_count": 19,
   "metadata": {},
   "outputs": [],
   "source": [
    "# Predicting the test results\n",
    "y_pred = regressor.predict(X_test)"
   ]
  },
  {
   "cell_type": "code",
   "execution_count": 20,
   "metadata": {},
   "outputs": [
    {
     "name": "stdout",
     "output_type": "stream",
     "text": [
      "[ 58317.57039613  56597.94297425  64754.53893445 190256.31562428\n",
      "  74903.65549425 109156.59680259 180341.55396106  60439.77873364\n",
      " 177290.19990718  35818.84970181  29512.46041417 158583.35641143\n",
      " 105137.10198668  19912.19999457 168949.45163383  64694.11264762\n",
      " 117825.2675274  152630.84877605 212552.19226561 199325.02160501\n",
      " 141357.71887972  53120.81133823 196955.17841949  51197.72895258\n",
      "  77506.18700932  72748.80377163  39630.29665882  41445.05461624\n",
      "  31966.90649674 247732.18633581 121016.69655329  85979.86950759\n",
      "  97700.35101219 142683.56767725  25753.95458192  82364.21513989\n",
      " 204301.01024728 184911.29388387 188949.00914392 117098.02408642\n",
      "  91701.67629365 153737.94678057  80934.61934039  31999.74029499\n",
      " 115638.12667723  19022.62565981 168483.3881836   67749.37419306\n",
      " 170137.00081156 134081.10243504 201858.65936649 188904.63881396\n",
      "  63305.4635139   68508.89304202 181499.36274877  75215.52202693\n",
      " 148915.9992506  184884.04824138  76105.98786432 102517.25554409\n",
      " 147351.12748819  35953.93493863 123963.17900169 145230.89291148\n",
      "  69042.24397558 111946.71784557 129564.86075101 161574.38644099\n",
      "  43946.03552023 188496.64664206 102247.60881575 158295.12154248\n",
      "  83813.65853691 166662.9248999   51402.26616013  67924.50127043\n",
      " 120556.75855054  87475.65699631 120403.79940201 126184.95047427\n",
      " 184540.09682171 121743.57201684 103857.02791648 141365.07147374\n",
      " 146307.68902598 108653.370508    32946.30400111  80877.4395795\n",
      " 121807.42228604 156963.10139858 168865.21671376  18897.0896394\n",
      "  87887.97793757 110760.61864597  41034.89794156 105175.15634827\n",
      " 154530.49022532 161585.20863539 181339.81936239  94839.90023771\n",
      " 120997.21685743 144034.16224373 168374.97685843 122509.06034026\n",
      "  79544.16018342 100856.25789905  89940.92503047 194684.51691593\n",
      " 174534.72320507 108222.65190917 153487.95696156 156706.4411091\n",
      " 168973.43731251 190135.99986095 159721.47057302  11039.18279164\n",
      " 168223.29067964  77185.85349634  49388.27838398 144870.51780079\n",
      " 150648.61286821 172597.94015136 182665.71402129 120603.29340589\n",
      " 169068.86216128  84074.10257322 183693.62006671  21706.4996104\n",
      " 145647.36553958 144553.25401147 189794.02240784 166819.84504655\n",
      "  75877.46501517  77708.73673746 123661.24318441 178955.71701078\n",
      " 121525.33410373 215429.43434354  95449.55065746  72234.04097891\n",
      " 170373.63641988  73451.15633524  58629.42317213  83527.76516259\n",
      "  46951.32498835  56617.59992125  60478.02382127 168192.98878936\n",
      "  81827.80816356 175691.46393708  85571.16306908  51156.90809174\n",
      " 163050.34004977  21874.24171977 181850.81188374 154996.55367554\n",
      " 177322.85676837  97549.03260572 198726.56090795  61646.80760691\n",
      "  60180.04900112 116331.45380016  51586.41847402  60228.92555716\n",
      "  46139.66960499 201111.93622972 191020.35393194 170115.16593929\n",
      " 147984.02808083 164696.55446538  43548.8652998   82980.35898495\n",
      " 162520.23556714 181071.62261219  61123.91085328 115071.05011444\n",
      "  69699.51169984 158665.41336902 117019.91465148 109268.96912565\n",
      " 188810.48669238 506341.82926081 129547.36832933 159696.75690926\n",
      "  77291.19534136  56935.95942967  57099.37279578  32140.05957028\n",
      " 121887.68273251  82805.93290299 179086.85472554 103370.93978512\n",
      "  54470.50087461 115813.54215226  94580.17050524 154299.61236789\n",
      " 181396.28489441 130479.14877283 148030.56289814 107283.2960029 ]\n"
     ]
    }
   ],
   "source": [
    "print(y_pred)"
   ]
  },
  {
   "cell_type": "code",
   "execution_count": 21,
   "metadata": {},
   "outputs": [],
   "source": [
    "from sklearn.metrics import r2_score"
   ]
  },
  {
   "cell_type": "code",
   "execution_count": 22,
   "metadata": {},
   "outputs": [
    {
     "data": {
      "text/plain": [
       "0.7999500119440894"
      ]
     },
     "execution_count": 22,
     "metadata": {},
     "output_type": "execute_result"
    }
   ],
   "source": [
    "r2_score(y_test,y_pred)"
   ]
  },
  {
   "cell_type": "code",
   "execution_count": null,
   "metadata": {},
   "outputs": [],
   "source": []
  }
 ],
 "metadata": {
  "kernelspec": {
   "display_name": "Python 3",
   "language": "python",
   "name": "python3"
  },
  "language_info": {
   "codemirror_mode": {
    "name": "ipython",
    "version": 3
   },
   "file_extension": ".py",
   "mimetype": "text/x-python",
   "name": "python",
   "nbconvert_exporter": "python",
   "pygments_lexer": "ipython3",
   "version": "3.7.4"
  }
 },
 "nbformat": 4,
 "nbformat_minor": 2
}
