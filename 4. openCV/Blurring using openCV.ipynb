{
 "cells": [
  {
   "cell_type": "markdown",
   "metadata": {},
   "source": [
    "### Number plate blurring"
   ]
  },
  {
   "cell_type": "code",
   "execution_count": 1,
   "metadata": {},
   "outputs": [],
   "source": [
    "import os\n",
    "import cv2\n",
    "import pandas as pd\n",
    "import numpy as np\n",
    "import matplotlib.pyplot as plt\n",
    "%matplotlib inline\n",
    "import warnings\n",
    "warnings.filterwarnings('ignore')"
   ]
  },
  {
   "cell_type": "code",
   "execution_count": 2,
   "metadata": {},
   "outputs": [
    {
     "data": {
      "text/plain": [
       "'C:\\\\Users\\\\ABC\\\\Documents\\\\IBM AI 6th sem\\\\18. openCV'"
      ]
     },
     "execution_count": 2,
     "metadata": {},
     "output_type": "execute_result"
    }
   ],
   "source": [
    "os.getcwd()"
   ]
  },
  {
   "cell_type": "code",
   "execution_count": 3,
   "metadata": {},
   "outputs": [],
   "source": [
    "os.chdir(r\"C:\\Users\\ABC\\Documents\\IBM AI 6th sem\\18. openCV\\picture\")"
   ]
  },
  {
   "cell_type": "code",
   "execution_count": 4,
   "metadata": {},
   "outputs": [],
   "source": [
    "image = cv2.imread(\"numberplate.jpg\")\n",
    "cv2.imshow(\"Number plate image\", image)\n",
    "cv2.waitKey(0)\n",
    "cv2.destroyAllWindows()"
   ]
  },
  {
   "cell_type": "code",
   "execution_count": 5,
   "metadata": {},
   "outputs": [],
   "source": [
    "plate_cascade = cv2.CascadeClassifier(\"haarcascade_russian_plate_number.xml\")\n",
    "\n",
    "def detect_and_blurr(image):\n",
    "    plate_copy = image.copy()\n",
    "    roi_copy = image.copy()\n",
    "    gray_plate = cv2.cvtColor(plate_copy,cv2.COLOR_BGR2GRAY)\n",
    "    \n",
    "    plate_rects = plate_cascade.detectMultiScale(gray_plate,1.1,3)\n",
    "    \n",
    "    for (x,y,w,h) in plate_rects:\n",
    "        roi = roi_copy[y:y+h, x:x+w] # step 1: fetching the pixels we want to blur\n",
    "        blurr = cv2.medianBlur(roi,71) # step 2: blurring those pixels, blurring intensity: odd and > 1\n",
    "        plate_copy[y:y+h, x:x+w] = blurr # step 3: assign blurred pixels to original image\n",
    "        \n",
    "        \n",
    "    return plate_copy\n",
    "\n",
    "result = detect_and_blurr(image)\n",
    "cv2.imshow(\"Result\", result)\n",
    "cv2.waitKey(0)\n",
    "cv2.destroyAllWindows()"
   ]
  },
  {
   "cell_type": "markdown",
   "metadata": {},
   "source": [
    "### Blurring face"
   ]
  },
  {
   "cell_type": "code",
   "execution_count": 6,
   "metadata": {},
   "outputs": [],
   "source": [
    "face_cascade = cv2.CascadeClassifier(\"haarcascade_frontalface_default.xml\")\n",
    "\n",
    "def detect_blur_face(image):\n",
    "    \n",
    "    face_copy = image.copy()\n",
    "    roi_copy = image.copy()\n",
    "    \n",
    "    gray_face = cv2.cvtColor(face_copy,cv2.COLOR_BGR2GRAY)\n",
    "    \n",
    "    face_rects = face_cascade.detectMultiScale(gray_face,1.3,5)\n",
    "    \n",
    "    for (x,y,w,h) in face_rects:\n",
    "        roi = roi_copy[y:y+h, x:x+w] \n",
    "        blurr = cv2.medianBlur(roi,71) \n",
    "        face_copy[y:y+h, x:x+w] = blurr\n",
    "        \n",
    "    return face_copy\n",
    "\n",
    "capture = cv2.VideoCapture(0)\n",
    "\n",
    "while True:\n",
    "    ret, frame = capture.read()\n",
    "    cv2.imshow(\"Output\",detect_blur_face(frame))\n",
    "    \n",
    "    if cv2.waitKey(1) & 0xff==ord('q'):\n",
    "        break\n",
    "\n",
    "capture.release()\n",
    "cv2.destroyAllWindows()"
   ]
  },
  {
   "cell_type": "markdown",
   "metadata": {},
   "source": [
    "### Blurring Only Eyes"
   ]
  },
  {
   "cell_type": "code",
   "execution_count": 7,
   "metadata": {},
   "outputs": [],
   "source": [
    "eye_cascade = cv2.CascadeClassifier(\"haarcascade_eye.xml\")\n",
    "\n",
    "def detect_blur_eyes(image):\n",
    "    \n",
    "    eye_copy = image.copy()\n",
    "    roi_copy = image.copy()\n",
    "    \n",
    "    gray_eye = cv2.cvtColor(eye_copy,cv2.COLOR_BGR2GRAY)\n",
    "    \n",
    "    eye_rects = eye_cascade.detectMultiScale(gray_eye,1.1,10)\n",
    "    \n",
    "    for (x,y,w,h) in eye_rects:\n",
    "        roi = roi_copy[y:y+h, x:x+w] \n",
    "        blurr = cv2.medianBlur(roi,71) \n",
    "        eye_copy[y:y+h, x:x+w] = blurr\n",
    "        \n",
    "    return eye_copy\n",
    "\n",
    "capture = cv2.VideoCapture(0)\n",
    "\n",
    "while True:\n",
    "    ret, frame = capture.read()\n",
    "    cv2.imshow(\"Output\",detect_blur_eyes(frame))\n",
    "    \n",
    "    if cv2.waitKey(1) & 0xff==ord('q'):\n",
    "        break\n",
    "\n",
    "capture.release()\n",
    "cv2.destroyAllWindows()"
   ]
  },
  {
   "cell_type": "markdown",
   "metadata": {},
   "source": [
    "### Blurring only smile"
   ]
  },
  {
   "cell_type": "code",
   "execution_count": 9,
   "metadata": {},
   "outputs": [],
   "source": [
    "smile_cascade = cv2.CascadeClassifier(\"haarcascade_smile.xml\")\n",
    "\n",
    "def detect_blur_smile(image):\n",
    "    \n",
    "    smile_copy = image.copy()\n",
    "    roi_copy = image.copy()\n",
    "    \n",
    "    gray_smile = cv2.cvtColor(smile_copy,cv2.COLOR_BGR2GRAY)\n",
    "    \n",
    "    smile_rects = smile_cascade.detectMultiScale(gray_smile,1.7,22)\n",
    "    \n",
    "    for (x,y,w,h) in smile_rects:\n",
    "        roi = roi_copy[y:y+h, x:x+w] \n",
    "        blurr = cv2.medianBlur(roi,71) \n",
    "        smile_copy[y:y+h, x:x+w] = blurr\n",
    "        \n",
    "    return smile_copy\n",
    "\n",
    "capture = cv2.VideoCapture(0)\n",
    "\n",
    "while True:\n",
    "    ret, frame = capture.read()\n",
    "    cv2.imshow(\"Output\",detect_blur_smile(frame))\n",
    "    \n",
    "    if cv2.waitKey(1) & 0xff==ord('q'):\n",
    "        break\n",
    "\n",
    "capture.release()\n",
    "cv2.destroyAllWindows()"
   ]
  },
  {
   "cell_type": "markdown",
   "metadata": {},
   "source": [
    "### Blurring both eyes and smile"
   ]
  },
  {
   "cell_type": "code",
   "execution_count": 13,
   "metadata": {},
   "outputs": [],
   "source": [
    "eye_cascade = cv2.CascadeClassifier(\"haarcascade_eye.xml\")\n",
    "smile_cascade = cv2.CascadeClassifier(\"haarcascade_smile.xml\")\n",
    "\n",
    "def blur_eyes_smile(image):\n",
    "    \n",
    "    face_copy = image.copy()\n",
    "    roi_copy = image.copy()\n",
    "    \n",
    "    gray_face = cv2.cvtColor(face_copy,cv2.COLOR_BGR2GRAY)\n",
    "    \n",
    "    smile_rects = smile_cascade.detectMultiScale(gray_face,1.7,22)\n",
    "    eye_rects = eye_cascade.detectMultiScale(gray_face,1.1,10)\n",
    "    \n",
    "    for (sx,sy,sw,sh) in smile_rects:\n",
    "        roi1 = roi_copy[sy:sy+sh, sx:sx+sw]\n",
    "        blurr1 = cv2.medianBlur(roi1,71)\n",
    "        face_copy[sy:sy+sh, sx:sx+sw] = blurr1\n",
    "       \n",
    "    for (ex,ey,ew,eh) in eye_rects:\n",
    "        roi2 = roi_copy[ey:ey+eh, ex:ex+ew]\n",
    "        blurr2 = cv2.medianBlur(roi2,71)\n",
    "        face_copy[ey:ey+eh, ex:ex+ew] = blurr2\n",
    "        \n",
    "    return face_copy\n",
    "\n",
    "capture = cv2.VideoCapture(0)\n",
    "\n",
    "while True:\n",
    "    ret, frame = capture.read()\n",
    "    cv2.imshow(\"Output\",blur_eyes_smile(frame))\n",
    "    \n",
    "    if cv2.waitKey(1) & 0xff==ord('q'):\n",
    "        break\n",
    "\n",
    "capture.release()\n",
    "cv2.destroyAllWindows()\n",
    "    "
   ]
  },
  {
   "cell_type": "code",
   "execution_count": null,
   "metadata": {},
   "outputs": [],
   "source": []
  }
 ],
 "metadata": {
  "kernelspec": {
   "display_name": "Python 3",
   "language": "python",
   "name": "python3"
  },
  "language_info": {
   "codemirror_mode": {
    "name": "ipython",
    "version": 3
   },
   "file_extension": ".py",
   "mimetype": "text/x-python",
   "name": "python",
   "nbconvert_exporter": "python",
   "pygments_lexer": "ipython3",
   "version": "3.7.4"
  }
 },
 "nbformat": 4,
 "nbformat_minor": 2
}
