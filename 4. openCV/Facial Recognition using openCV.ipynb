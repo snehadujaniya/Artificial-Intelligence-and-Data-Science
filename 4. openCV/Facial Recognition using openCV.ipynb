{
 "cells": [
  {
   "cell_type": "code",
   "execution_count": 1,
   "metadata": {},
   "outputs": [],
   "source": [
    "import cv2\n",
    "import os\n",
    "import numpy as np"
   ]
  },
  {
   "cell_type": "code",
   "execution_count": 2,
   "metadata": {},
   "outputs": [],
   "source": [
    "capture = cv2.VideoCapture(0) # 0 is for our own webcam, 1 for external cam\n",
    "\n",
    "while True:        ##continuous loop\n",
    "    ret,frame=capture.read()   # frame contains the frame value, ret stores the boolean value whether its a frame or not\n",
    "    frame = cv2.cvtColor(frame,cv2.COLOR_BGR2GRAY)  # to convert the colored frame from bgr to grayscale\n",
    "    cv2.imshow(\"output\",frame) # shows the frame\n",
    "    \n",
    "    if cv2.waitKey(1) & 0xff==ord('q'):       # here, it is 1 then it will capture for only 1 frame\n",
    "        break                                 # ord = gives the ordinal(unicode) value of a letter, 0xff = masking\n",
    "                                              # when we press q, the loop breaks\n",
    "\n",
    "capture.release()\n",
    "cv2.destroyAllWindows()"
   ]
  },
  {
   "cell_type": "code",
   "execution_count": 3,
   "metadata": {},
   "outputs": [
    {
     "data": {
      "text/plain": [
       "113"
      ]
     },
     "execution_count": 3,
     "metadata": {},
     "output_type": "execute_result"
    }
   ],
   "source": [
    "ord('q')  # Unicode value"
   ]
  },
  {
   "cell_type": "code",
   "execution_count": 4,
   "metadata": {},
   "outputs": [
    {
     "data": {
      "text/plain": [
       "'C:\\\\Users\\\\ABC\\\\Documents\\\\IBM AI 6th sem\\\\openCV'"
      ]
     },
     "execution_count": 4,
     "metadata": {},
     "output_type": "execute_result"
    }
   ],
   "source": [
    "os.getcwd()"
   ]
  },
  {
   "cell_type": "code",
   "execution_count": 5,
   "metadata": {},
   "outputs": [],
   "source": [
    "os.chdir(r\"C:\\Users\\ABC\\Documents\\IBM AI 6th sem\\openCV\\picture\")"
   ]
  },
  {
   "cell_type": "code",
   "execution_count": 14,
   "metadata": {},
   "outputs": [],
   "source": [
    "# Read image from the directory\n",
    "image = cv2.imread(\"group.jpg\",0) # 0=gray frame, 1=colored, -1=original\n",
    "cv2.imshow(\"group image\",image)\n",
    "cv2.waitKey(0)\n",
    "cv2.destroyAllWindows()"
   ]
  },
  {
   "cell_type": "code",
   "execution_count": 10,
   "metadata": {},
   "outputs": [
    {
     "data": {
      "text/plain": [
       "(158, 319, 3)"
      ]
     },
     "execution_count": 10,
     "metadata": {},
     "output_type": "execute_result"
    }
   ],
   "source": [
    "np.array(image).shape # 3 channel because it is colored\n",
    "# It would have been only 2 channels for B&W"
   ]
  },
  {
   "cell_type": "markdown",
   "metadata": {},
   "source": [
    "### Face detection using \"haarcascade_frontalface_default.xml\" file"
   ]
  },
  {
   "cell_type": "code",
   "execution_count": 18,
   "metadata": {},
   "outputs": [],
   "source": [
    "face_cascade = cv2.CascadeClassifier('haarcascade_frontalface_default.xml') # to apply cascading on haar features\n",
    "\n",
    "def detect_face(image):\n",
    "    face_copy = image.copy() # So that original is not disturbed\n",
    "    \n",
    "    face_rects=face_cascade.detectMultiScale(face_copy,1.3,3) # to get the coordinate values\n",
    "    # 1.3=scaling feature, 3min number of features that must be fetched for it to be a face\n",
    "    # these are standard experimental values\n",
    "    # this returns first coordinates (x,y) and width and height of rectangle\n",
    "    \n",
    "    for (x,y,w,h) in face_rects:\n",
    "        cv2.rectangle(face_copy,(x,y),(x+w,y+h),(0,0,255),1) # making rectangles on detected face\n",
    "        \n",
    "    return face_copy "
   ]
  },
  {
   "cell_type": "code",
   "execution_count": 19,
   "metadata": {},
   "outputs": [],
   "source": [
    "output=detect_face(image)\n",
    "cv2.imshow(\"output_image\",output)\n",
    "cv2.waitKey(0)\n",
    "cv2.destroyAllWindows()"
   ]
  },
  {
   "cell_type": "markdown",
   "metadata": {},
   "source": [
    "### Eye detection using \"haarcascade_eye.xml\" file"
   ]
  },
  {
   "cell_type": "code",
   "execution_count": 23,
   "metadata": {},
   "outputs": [],
   "source": [
    "image = cv2.imread(\"grp1.jpg\",0) # 0=gray frame, 1=colored, -1=original\n",
    "cv2.imshow(\"group_image\",image)\n",
    "cv2.waitKey(0)\n",
    "cv2.destroyAllWindows()"
   ]
  },
  {
   "cell_type": "code",
   "execution_count": 24,
   "metadata": {},
   "outputs": [],
   "source": [
    "eye_cascade = cv2.CascadeClassifier('haarcascade_eye.xml') \n",
    "\n",
    "def detect_eyes(image):\n",
    "    eye_copy = image.copy() \n",
    "    \n",
    "    eye_rects=eye_cascade.detectMultiScale(eye_copy,1.1,3) \n",
    "    \n",
    "    for (x,y,w,h) in eye_rects:\n",
    "        cv2.rectangle(eye_copy,(x,y),(x+w,y+h),(0,0,255),1) # making rectangles on detected face\n",
    "        \n",
    "    return eye_copy "
   ]
  },
  {
   "cell_type": "code",
   "execution_count": 25,
   "metadata": {},
   "outputs": [],
   "source": [
    "output=detect_eyes(image)\n",
    "cv2.imshow(\"output_image\",output)\n",
    "cv2.waitKey(0)\n",
    "cv2.destroyAllWindows()"
   ]
  },
  {
   "cell_type": "markdown",
   "metadata": {},
   "source": [
    "### Home Assignment\n",
    "\n",
    "#### 3. Smile detection using \"haarcascade_smile.xml\" file"
   ]
  },
  {
   "cell_type": "code",
   "execution_count": 28,
   "metadata": {},
   "outputs": [],
   "source": [
    "smile_cascade = cv2.CascadeClassifier('haarcascade_smile.xml') \n",
    "\n",
    "def detect_smile(image):\n",
    "    smile_copy = image.copy() \n",
    "    \n",
    "    smile_rects=smile_cascade.detectMultiScale(smile_copy,1.7,22) \n",
    "    \n",
    "    for (x,y,w,h) in smile_rects:\n",
    "        cv2.rectangle(smile_copy,(x,y),(x+w,y+h),(0,0,255),1) # making rectangles on detected face\n",
    "        \n",
    "    return smile_copy "
   ]
  },
  {
   "cell_type": "code",
   "execution_count": 29,
   "metadata": {},
   "outputs": [],
   "source": [
    "output=detect_smile(image)\n",
    "cv2.imshow(\"output_image\",output)\n",
    "cv2.waitKey(0)\n",
    "cv2.destroyAllWindows()"
   ]
  },
  {
   "cell_type": "markdown",
   "metadata": {},
   "source": [
    "#### 4. Face, eye and smile detection using live video"
   ]
  },
  {
   "cell_type": "code",
   "execution_count": 41,
   "metadata": {},
   "outputs": [],
   "source": [
    "face_cascade = cv2.CascadeClassifier('haarcascade_frontalface_default.xml')\n",
    "eye_cascade = cv2.CascadeClassifier('haarcascade_eye.xml')\n",
    "smile_cascade = cv2.CascadeClassifier('haarcascade_smile.xml')\n",
    "\n",
    "capture = cv2.VideoCapture(0)\n",
    "\n",
    "while True:        \n",
    "    ret,img = capture.read()\n",
    "    frame = cv2.cvtColor(img,cv2.COLOR_BGR2GRAY) \n",
    "    \n",
    "    detect_face = face_cascade.detectMultiScale(frame)\n",
    "    for (fx,fy,fw,fh) in detect_face:\n",
    "        \n",
    "        cv2.rectangle(img,(fx,fy),(fx+fw,fy+fh),(0,0,255),2)\n",
    "        face_gray = frame[fy:fy+fh,fx:fx+fw]\n",
    "        face_color = img[fy:fy+fh,fx:fx+fw]\n",
    "        \n",
    "        detect_eye = eye_cascade.detectMultiScale(face_gray)\n",
    "        for (ex,ey,ew,eh) in detect_eye:\n",
    "            cv2.rectangle(face_color,(ex,ey),(ex+ew,ey+eh),(0,255,0),2)\n",
    "        \n",
    "        detect_smile = smile_cascade.detectMultiScale(face_gray)\n",
    "        for (sx,sy,sw,sh) in detect_smile:\n",
    "            cv2.rectangle(face_color,(sx,sy),(sx+sw,sy+sh),(255,0,0),2)\n",
    "                \n",
    "    cv2.imshow(\"Face\",img)\n",
    "    \n",
    "    if cv2.waitKey(30) & 0xff == ord('q'):       \n",
    "        break                                 \n",
    "\n",
    "capture.release()\n",
    "cv2.destroyAllWindows()"
   ]
  },
  {
   "cell_type": "markdown",
   "metadata": {},
   "source": [
    "#### 5. number plate detection using \"haarcascade_russian_plate_number.xml\" file"
   ]
  },
  {
   "cell_type": "code",
   "execution_count": 42,
   "metadata": {},
   "outputs": [],
   "source": [
    "image = cv2.imread(\"numberplate.jpg\")\n",
    "cv2.imshow(\"number plate\",image)\n",
    "cv2.waitKey(0)\n",
    "cv2.destroyAllWindows()"
   ]
  },
  {
   "cell_type": "code",
   "execution_count": 43,
   "metadata": {},
   "outputs": [],
   "source": [
    "numberplate_cascade = cv2.CascadeClassifier('haarcascade_russian_plate_number.xml')\n",
    "\n",
    "def detect_plate(image):\n",
    "    image_copy = image.copy()\n",
    "    \n",
    "    image_rects = numberplate_cascade.detectMultiScale(image_copy)\n",
    "    \n",
    "    for (x,y,w,h) in image_rects:\n",
    "        cv2.rectangle(image_copy,(x,y),(x+w,y+h),(0,255,255),2)\n",
    "        \n",
    "    return image_copy"
   ]
  },
  {
   "cell_type": "code",
   "execution_count": 44,
   "metadata": {},
   "outputs": [],
   "source": [
    "output=detect_plate(image)\n",
    "cv2.imshow(\"output_image\",output)\n",
    "cv2.waitKey(0)\n",
    "cv2.destroyAllWindows()"
   ]
  },
  {
   "cell_type": "code",
   "execution_count": null,
   "metadata": {},
   "outputs": [],
   "source": []
  }
 ],
 "metadata": {
  "kernelspec": {
   "display_name": "Python 3",
   "language": "python",
   "name": "python3"
  },
  "language_info": {
   "codemirror_mode": {
    "name": "ipython",
    "version": 3
   },
   "file_extension": ".py",
   "mimetype": "text/x-python",
   "name": "python",
   "nbconvert_exporter": "python",
   "pygments_lexer": "ipython3",
   "version": "3.7.4"
  }
 },
 "nbformat": 4,
 "nbformat_minor": 2
}
